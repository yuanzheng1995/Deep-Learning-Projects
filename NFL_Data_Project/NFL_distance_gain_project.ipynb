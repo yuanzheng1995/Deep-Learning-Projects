{
 "cells": [
  {
   "cell_type": "code",
   "execution_count": null,
   "id": "c1d4b4a2-804a-465e-88b6-8b90796d4a6a",
   "metadata": {},
   "outputs": [],
   "source": [
    "import os\n",
    "# TRAIN_ABLE_FALSE=True\n",
    "# if TRAIN_ABLE_FALSE:\n",
    "#     os.environ['CUDA_VISIBLE_DEVICES'] = \"1\"\n",
    "import numpy as np\n",
    "import pandas as pd\n",
    "import sklearn.metrics as mtr\n",
    "import matplotlib.pyplot as plt\n",
    "from sklearn.preprocessing import StandardScaler\n",
    "from sklearn.model_selection import train_test_split\n",
    "\n",
    "from keras.layers import Dense,Input,Flatten,concatenate,Dropout,Lambda,BatchNormalization,LeakyReLU,PReLU,ELU,ThresholdedReLU,Concatenate\n",
    "from keras.models import Model\n",
    "import keras.backend as K\n",
    "from keras.callbacks import Callback\n",
    "from  keras.callbacks import EarlyStopping,ModelCheckpoint\n",
    "from tqdm import tqdm_notebook\n",
    "from functools import partial\n",
    "import datetime\n",
    "import warnings\n",
    "warnings.filterwarnings('ignore')\n",
    "\n",
    "TRAIN_OFFLINE = False\n",
    "\n",
    "\n",
    "pd.set_option('display.max_columns', 50)\n",
    "pd.set_option('display.max_rows', 150)"
   ]
  },
  {
   "cell_type": "code",
   "execution_count": null,
   "id": "d0037716-294c-4001-aabe-f09b3810bd6c",
   "metadata": {},
   "outputs": [],
   "source": [
    "import os\n",
    "for dirname, _, filenames in os.walk('/kaggle/input'):\n",
    "    for filename in filenames:\n",
    "        print(os.path.join(dirname, filename))\n",
    "\n",
    "if TRAIN_OFFLINE:\n",
    "    train = pd.read_csv('../input/train.csv', dtype={'WindSpeed': 'object'})\n",
    "else:\n",
    "    train = pd.read_csv('/kaggle/input/nfl-big-data-bowl-2020/train.csv', dtype={'WindSpeed': 'object'})\n",
    "    "
   ]
  },
  {
   "cell_type": "code",
   "execution_count": null,
   "id": "601420c7-07aa-4aa3-b376-dd82368899db",
   "metadata": {},
   "outputs": [],
   "source": [
    "outcomes = train[['GameId','PlayId','Yards']].drop_duplicates()"
   ]
  },
  {
   "cell_type": "markdown",
   "id": "05d64e68-3006-4a20-b596-c207f1818861",
   "metadata": {},
   "source": [
    "## Data Splitting"
   ]
  },
  {
   "cell_type": "code",
   "execution_count": null,
   "id": "941661ff-9f11-4489-831d-00b9834d840a",
   "metadata": {},
   "outputs": [],
   "source": [
    "X = train_basetable.copy()\n",
    "yards = X.Yards\n",
    "\n",
    "y = np.zeros((yards.shape[0], 199))\n",
    "for idx, target in enumerate(list(yards)):\n",
    "    y[idx][99 + target] = 1\n",
    "\n",
    "X.drop(['GameId','PlayId','Yards'], axis=1, inplace=True)\n",
    "\n",
    "scaler = StandardScaler()\n",
    "X = scaler.fit_transform(X)"
   ]
  },
  {
   "cell_type": "markdown",
   "id": "7ba469f2-0501-45f1-b3bd-fb646924fba5",
   "metadata": {},
   "source": [
    "## Define CRPS score calculator"
   ]
  },
  {
   "cell_type": "code",
   "execution_count": null,
   "id": "208dfee9-a542-41b9-8ecf-bc4deea25613",
   "metadata": {},
   "outputs": [],
   "source": [
    "from keras.layers import Dense,Input,Flatten,concatenate,Dropout,Lambda\n",
    "from keras.models import Model\n",
    "from keras.optimizers import Adam\n",
    "import keras.backend as K\n",
    "import re\n",
    "from keras.losses import binary_crossentropy\n",
    "from  keras.callbacks import EarlyStopping, ModelCheckpoint, ReduceLROnPlateau, Callback\n",
    "import codecs\n",
    "from keras.utils import to_categorical\n",
    "from sklearn.metrics import f1_score\n",
    "from sklearn.model_selection import KFold\n",
    "\n",
    "class CRPSCallback(Callback):\n",
    "    \n",
    "    def __init__(self,validation, predict_batch_size=20, include_on_batch=False, verbose=0):\n",
    "        super(CRPSCallback, self).__init__()\n",
    "        self.validation = validation\n",
    "        self.predict_batch_size = predict_batch_size\n",
    "        self.include_on_batch = include_on_batch\n",
    "        self.verbose = verbose\n",
    "        \n",
    "        if self.verbose != 0:\n",
    "            print('validation shape',len(self.validation))\n",
    "\n",
    "    def on_batch_begin(self, batch, logs={}):\n",
    "        pass\n",
    "\n",
    "    def on_train_begin(self, logs={}):\n",
    "        if not ('CRPS_score_val' in self.params['metrics']):\n",
    "            self.params['metrics'].append('CRPS_score_val')\n",
    "\n",
    "    def on_batch_end(self, batch, logs={}):\n",
    "        if (self.include_on_batch):\n",
    "            logs['CRPS_score_val'] = float('-inf')\n",
    "\n",
    "    def on_epoch_end(self, epoch, logs={}):\n",
    "        logs['CRPS_score_val'] = float('-inf')\n",
    "            \n",
    "        if (self.validation):\n",
    "            X_valid, y_valid = self.validation[0], self.validation[1]\n",
    "            y_pred = self.model.predict(X_valid)\n",
    "            y_true = np.clip(np.cumsum(y_valid, axis=1), 0, 1)\n",
    "            y_pred = np.clip(np.cumsum(y_pred, axis=1), 0, 1)\n",
    "            val_s = ((y_true - y_pred) ** 2).sum(axis=1).sum(axis=0) / (199 * X_valid.shape[0])\n",
    "            val_s = np.round(val_s, 6)\n",
    "            logs['CRPS_score_val'] = val_s"
   ]
  },
  {
   "cell_type": "code",
   "execution_count": null,
   "id": "a5252bcf-817c-43c6-b634-b953b192462e",
   "metadata": {},
   "outputs": [],
   "source": [
    "# Calculate CRPS score\n",
    "def crps_score(y_prediction, y_valid, shape=X.shape[0]):\n",
    "    y_true = np.clip(np.cumsum(y_valid, axis=1), 0, 1)\n",
    "    y_pred = np.clip(np.cumsum(y_prediction, axis=1), 0, 1)\n",
    "    val_s = ((y_true - y_pred) ** 2).sum(axis=1).sum(axis=0) / (199 * shape)\n",
    "    crps = np.round(val_s, 6)\n",
    "    \n",
    "    return crps"
   ]
  },
  {
   "cell_type": "markdown",
   "id": "f69bf7ca-d5e6-4716-8697-e9039d33d30f",
   "metadata": {},
   "source": [
    "## Bayesian Optimisation Hyperparameter Tuning"
   ]
  },
  {
   "cell_type": "markdown",
   "id": "df3f2bbb-15c7-431a-8304-576d03f21274",
   "metadata": {},
   "source": [
    "### ANN"
   ]
  },
  {
   "cell_type": "code",
   "execution_count": null,
   "id": "b12febf6-7e94-4dc5-9bd5-f68567d36a9f",
   "metadata": {},
   "outputs": [],
   "source": [
    "def get_nn(x_tr, y_tr, x_val, y_val, shape, u1_x8=128, u2_x8=64, u3_x8=32, d1=0.5, d2=0.5, d3=0.5):\n",
    "    u1 = max(int(u1_x8 * 8), 8)\n",
    "    u2 = max(int(u2_x8 * 8), 8)\n",
    "    u3 = max(int(u3_x8 * 8), 8)\n",
    "    \n",
    "    K.clear_session()\n",
    "    inp = Input(shape = (x_tr.shape[1],))\n",
    "    x = Dense(u1, input_dim=X.shape[1], activation='relu')(inp)\n",
    "    x = Dropout(d1)(x)\n",
    "    x = BatchNormalization()(x)\n",
    "    x = Dense(u2, activation='relu')(x)\n",
    "    x = Dropout(d2)(x)\n",
    "    x = BatchNormalization()(x)\n",
    "    x = Dense(u3, activation='relu')(x)\n",
    "    x = Dropout(d3)(x)\n",
    "    x = BatchNormalization()(x)\n",
    "    \n",
    "    out = Dense(199, activation='softmax')(x)\n",
    "    model = Model(inp,out)\n",
    "    model.compile(optimizer='adam', loss='categorical_crossentropy', metrics=[])\n",
    "    \n",
    "    es = EarlyStopping(monitor='CRPS_score_val', \n",
    "                       mode='min',\n",
    "                       restore_best_weights=True, \n",
    "                       verbose=0, \n",
    "                       patience=10)\n",
    "\n",
    "    mc = ModelCheckpoint('best_model.h5',monitor='CRPS_score_val',mode='min',\n",
    "                                   save_best_only=True, verbose=0, save_weights_only=True)\n",
    "    \n",
    "    bsz = 1024\n",
    "    steps = x_tr.shape[0]/bsz\n",
    "\n",
    "    model.fit(x_tr, y_tr,callbacks=[CRPSCallback(validation = (x_val,y_val)),es,mc], epochs=100, batch_size=bsz,verbose=0)\n",
    "    model.load_weights(\"best_model.h5\")\n",
    "    \n",
    "    y_pred = model.predict(x_val)\n",
    "    y_valid = y_val\n",
    "    crps = crps_score(y_pred, y_valid, shape=shape)\n",
    "\n",
    "    return model, crps\n",
    "\n",
    "def fit_nn(X=X, y=y, fold=5, u1_x8=128, u2_x8=64, u3_x8=32, d1=0.5, d2=0.5, d3=0.5):\n",
    "    crps_csv_nn = []  \n",
    "    kfold = KFold(fold, random_state = 42, shuffle = True)\n",
    "    for k_fold, (tr_inds, val_inds) in enumerate(kfold.split(yards)):\n",
    "        tr_x, tr_y = X[tr_inds], y[tr_inds]\n",
    "        val_x, val_y = X[val_inds], y[val_inds]\n",
    "        \n",
    "        # Train NN\n",
    "        _, crps_nn = get_nn(tr_x, tr_y, val_x, val_y, shape=val_x.shape[0], \n",
    "                            u1_x8=u1_x8, u2_x8=u2_x8, u3_x8=u3_x8, d1=d1, d2=d2, d3=d3)\n",
    "        crps_csv_nn.append(crps_nn)\n",
    "        \n",
    "    return -np.mean(crps_csv_nn)"
   ]
  },
  {
   "cell_type": "code",
   "execution_count": null,
   "id": "46e314d0-5689-4bfb-b385-481052caadd9",
   "metadata": {},
   "outputs": [],
   "source": [
    "from bayes_opt import BayesianOptimization\n",
    "\n",
    "pbounds = {\n",
    "           'u1_x8': (15.9, 256.1),\n",
    "           'u2_x8': (15.9, 256.1),\n",
    "           'u3_x8': (15.9, 256.1),\n",
    "           'd1': (0, 0.9),\n",
    "           'd2': (0, 0.9),\n",
    "           'd3': (0, 0.9),\n",
    "          }\n",
    "\n",
    "optimizer_nn = BayesianOptimization(\n",
    "    f=fit_nn,\n",
    "    pbounds=pbounds,\n",
    "    verbose=2,\n",
    "    random_state=42,\n",
    ")\n",
    "\n",
    "optimizer_nn.maximize(init_points=10, n_iter=50)"
   ]
  },
  {
   "cell_type": "code",
   "execution_count": null,
   "id": "5ebfa6ac-7066-4d8e-8b93-01b35244d25d",
   "metadata": {},
   "outputs": [],
   "source": [
    "print('Best Number of Neurons 1: ', max(int(optimizer_nn.max['params']['u1_x8'] * 8), 8))\n",
    "print('Best Number of Neurons 2: ', max(int(optimizer_nn.max['params']['u2_x8'] * 8), 8))\n",
    "print('Best Number of Neurons 3: ', max(int(optimizer_nn.max['params']['u3_x8'] * 8), 8))\n",
    "print('Best Dropout Rate 1: ', round(optimizer_nn.max['params']['d1'], 5))\n",
    "print('Best Dropout Rate 2: ', round(optimizer_nn.max['params']['d2'], 5))\n",
    "print('Best Dropout Rate 3: ', round(optimizer_nn.max['params']['d3'], 5))"
   ]
  },
  {
   "cell_type": "markdown",
   "id": "be4b15ce-3478-4a2a-9b0c-16c83a0e5012",
   "metadata": {},
   "source": [
    "### RF"
   ]
  },
  {
   "cell_type": "code",
   "execution_count": null,
   "id": "b86ca3de-2ffe-46c0-87f1-2fe15964eaff",
   "metadata": {},
   "outputs": [],
   "source": [
    "from sklearn.ensemble import RandomForestClassifier, RandomForestRegressor\n",
    "\n",
    "def get_rf(x_tr, y_tr, x_val, y_val, shape, mf=0.3, msl=15, mss=8, ne=50):\n",
    "    msl = int(msl)\n",
    "    mss = int(mss)\n",
    "    ne = int(ne)\n",
    "    \n",
    "    model = RandomForestRegressor(bootstrap=False, max_features=0.3, min_samples_leaf=15, \n",
    "                                  min_samples_split=8, n_estimators=50, n_jobs=-1, random_state=42)\n",
    "    model.fit(x_tr, y_tr)\n",
    "    \n",
    "    y_pred = model.predict(x_val)\n",
    "    y_valid = y_val\n",
    "    crps = crps_score(y_pred, y_valid, shape=shape)\n",
    "    \n",
    "    return model, crps\n",
    "\n",
    "def fit_rf(X=X, y=y, fold=5, mf=0.3, msl=15, mss=8, ne=50):\n",
    "    crps_csv_rf = []  \n",
    "    kfold = KFold(fold, random_state = 42, shuffle = True)\n",
    "    for k_fold, (tr_inds, val_inds) in enumerate(kfold.split(yards)):\n",
    "        tr_x, tr_y = X[tr_inds], y[tr_inds]\n",
    "        val_x, val_y = X[val_inds], y[val_inds]\n",
    "        \n",
    "        # Train NN\n",
    "        _, crps_rf = get_rf(tr_x, tr_y, val_x, val_y, shape=val_x.shape[0], \n",
    "                            mf=mf, msl=msl, mss=mss, ne=ne)\n",
    "        crps_csv_rf.append(crps_rf)\n",
    "        \n",
    "    return -np.mean(crps_csv_rf)"
   ]
  }
 ],
 "metadata": {
  "kernelspec": {
   "display_name": "Python 3 (ipykernel)",
   "language": "python",
   "name": "python3"
  },
  "language_info": {
   "codemirror_mode": {
    "name": "ipython",
    "version": 3
   },
   "file_extension": ".py",
   "mimetype": "text/x-python",
   "name": "python",
   "nbconvert_exporter": "python",
   "pygments_lexer": "ipython3",
   "version": "3.11.0"
  }
 },
 "nbformat": 4,
 "nbformat_minor": 5
}
